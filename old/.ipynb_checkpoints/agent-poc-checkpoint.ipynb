{
 "cells": [
  {
   "cell_type": "markdown",
   "id": "18bf6c5b-b6c3-4eea-a07c-9302314065d8",
   "metadata": {
    "tags": []
   },
   "source": [
    "Copyright 2024 Google, LLC. This software is provided as-is,\n",
    "without warranty or representation for any use or purpose. Your\n",
    "use of it is subject to your agreement with Google.\n",
    "\n",
    "Licensed under the Apache License, Version 2.0 (the \"License\");\n",
    "you may not use this file except in compliance with the License.\n",
    "You may obtain a copy of the License at\n",
    "\n",
    "   http://www.apache.org/licenses/LICENSE-2.0\n",
    "\n",
    "Unless required by applicable law or agreed to in writing, software\n",
    "distributed under the License is distributed on an \"AS IS\" BASIS,\n",
    "WITHOUT WARRANTIES OR CONDITIONS OF ANY KIND, either express or implied.\n",
    "See the License for the specific language governing permissions and\n",
    "limitations under the License.\n",
    "\n",
    "# Example Agent Workflow using Google's ADK\n",
    "\n",
    "This notebook provides an example of building an agentic workflow with Google's new ADK. For more information please visit https://cloud.google.com/vertex-ai/generative-ai/docs/multimodal/send-chat-prompts-gemini"
   ]
  },
  {
   "cell_type": "code",
   "execution_count": null,
   "id": "a334de48-456f-48df-bc22-2834cdb1b635",
   "metadata": {
    "tags": []
   },
   "outputs": [],
   "source": [
    "# Core Vertex AI and Agent SDK\n",
    "!pip install google-cloud-aiplatform\n",
    "!pip install google-adk\n",
    "\n",
    "# Google Cloud Storage client\n",
    "!pip install google-cloud-storage\n",
    "\n",
    "# For making HTTP requests (to the mock ticket server)\n",
    "!pip install requests"
   ]
  },
  {
   "cell_type": "markdown",
   "id": "fe49d241-94f3-4685-94dc-4c0ec21208da",
   "metadata": {},
   "source": [
    "Import python libraries"
   ]
  },
  {
   "cell_type": "code",
   "execution_count": null,
   "id": "55800605-c9b1-40c9-8c12-fb17de2876a1",
   "metadata": {
    "tags": []
   },
   "outputs": [],
   "source": [
    "# Vertex AI Modules\n",
    "import vertexai\n",
    "from vertexai.preview.generative_models import GenerativeModel, GenerationConfig, Part, Tool, ChatSession, FunctionDeclaration, grounding, GenerationResponse\n",
    "from vertexai.preview import rag\n",
    "\n",
    "# Vertex Agent Modules\n",
    "from google.adk.agents import Agent\n",
    "from google.adk.runners import Runner\n",
    "from google.adk.sessions import InMemorySessionService\n",
    "from google.adk.artifacts.in_memory_artifact_service import InMemoryArtifactService\n",
    "\n",
    "\n",
    "# Vertex GenAI Modules\n",
    "import google.genai\n",
    "from google.genai import types\n",
    "\n",
    "# Google Cloud AI Platform Modules\n",
    "from google.cloud import aiplatform_v1beta1 as aiplatform # This module helps parse the info for delete_rag_corpa function\n",
    "from google.cloud import storage\n",
    "\n",
    "# Other Python Modules\n",
    "#import base64\n",
    "#from IPython.display import Markdown\n",
    "import requests\n",
    "import os\n",
    "from typing import List, Dict, TypedDict\n",
    "import json\n",
    "from urllib.parse import urlparse"
   ]
  },
  {
   "cell_type": "markdown",
   "id": "5b9c574e-57b0-4094-8fd5-97585fd5e00d",
   "metadata": {},
   "source": [
    "## Set these variables for your environment "
   ]
  },
  {
   "cell_type": "code",
   "execution_count": null,
   "id": "93a33169-d938-4185-8a08-d48cbee56958",
   "metadata": {
    "tags": []
   },
   "outputs": [],
   "source": [
    "project_id = \"rkiles-demo-host-vpc\" # Your GCP Project ID\n",
    "location = \"global\" # You can leave this setting as global\n",
    "region = \"us-central1\" # Your region. This notebook has only been tested in us-central1\n",
    "\n",
    "corpa_name = \"nest-rag-corpus\" # This will be the display name of your RAG Engine corpus\n",
    "\n",
    "corpa_document_bucket = \"gs://rkiles-test/nest/docs/\" # The GCS path to the files you want to ingest into your RAG Engine corpus\n",
    "\n",
    "local_documents = \"./nest_docs/\" # Local directory containing Nest support files to copy\n",
    "\n",
    "ticket_server_url = \"http://ticket01:8000\" # The url to the mock ticket system. This will be a GCE VM running the ticket_server.py web service."
   ]
  },
  {
   "cell_type": "markdown",
   "id": "34466e1b-5641-41e5-89d4-8d8d3bb8758a",
   "metadata": {},
   "source": [
    "Set environment variables for the Agent and GenAI modules"
   ]
  },
  {
   "cell_type": "code",
   "execution_count": null,
   "id": "fe9f7629-aea1-4a7c-a7d9-2b38b0d05d80",
   "metadata": {
    "tags": []
   },
   "outputs": [],
   "source": [
    "os.environ[\"GOOGLE_GENAI_USE_VERTEXAI\"] = \"1\"\n",
    "os.environ[\"GOOGLE_CLOUD_PROJECT\"] = project_id\n",
    "os.environ[\"GOOGLE_CLOUD_LOCATION\"] = region"
   ]
  },
  {
   "cell_type": "markdown",
   "id": "e91489d3-f0f6-4bc6-9826-8e6778c31fa3",
   "metadata": {},
   "source": [
    "Initialze Vertex AI setting"
   ]
  },
  {
   "cell_type": "code",
   "execution_count": null,
   "id": "625d5abc-09c5-44a9-a21f-cb957cff12bd",
   "metadata": {
    "tags": []
   },
   "outputs": [],
   "source": [
    "vertexai.init(project=project_id, location=region)"
   ]
  },
  {
   "cell_type": "markdown",
   "id": "fe443a95-218f-4328-a811-3e581ded6606",
   "metadata": {},
   "source": [
    "## Upload PDF Files for the RAG Engine Instance"
   ]
  },
  {
   "cell_type": "markdown",
   "id": "cb2425ae-13d3-4942-9fb8-d52280bd071b",
   "metadata": {},
   "source": [
    "Let's start by defining the GCS folder where we'll keep our PDF files. These will be used with RAG Engine to help identify relevant support files that we can add to the shared session state (i.e. context window) for our agents."
   ]
  },
  {
   "cell_type": "markdown",
   "id": "5ea7dd7e-714d-4299-9a21-5c0e16bc2ef0",
   "metadata": {},
   "source": [
    "Parse the GCS path from our \"corpa_document_bucket\" variable to get bucket name and prefix"
   ]
  },
  {
   "cell_type": "code",
   "execution_count": null,
   "id": "e0e05a63-72fe-4a60-a523-94ab68eb0d70",
   "metadata": {
    "tags": []
   },
   "outputs": [],
   "source": [
    "parsed_uri = urlparse(corpa_document_bucket)\n",
    "bucket_name = parsed_uri.netloc\n",
    "prefix = parsed_uri.path.lstrip('/')"
   ]
  },
  {
   "cell_type": "markdown",
   "id": "766633bc-90e0-4fd8-8a46-e7e7834b9af6",
   "metadata": {},
   "source": [
    "Initialize the Google Cloud Storage client"
   ]
  },
  {
   "cell_type": "code",
   "execution_count": null,
   "id": "8690d896-535d-4e81-b9d4-e3ac707617d5",
   "metadata": {
    "tags": []
   },
   "outputs": [],
   "source": [
    "storage_client = storage.Client()"
   ]
  },
  {
   "cell_type": "markdown",
   "id": "3c7a0a70-374a-498a-905b-a249b382bdd6",
   "metadata": {},
   "source": [
    "Check to see if the GCS bucket exists and if not, create it."
   ]
  },
  {
   "cell_type": "code",
   "execution_count": null,
   "id": "626e0d38-5490-49dd-8c26-e9ff9a695896",
   "metadata": {
    "tags": []
   },
   "outputs": [],
   "source": [
    "# Get the bucket object\n",
    "bucket = storage_client.bucket(bucket_name)\n",
    "\n",
    "# Check if the bucket exists, create it if not\n",
    "if not bucket.exists():\n",
    "    bucket.create()\n",
    "    print(f\"Bucket '{bucket_name}' created successfully.\")\n",
    "else:\n",
    "    print(f\"Bucket '{bucket_name}' already exists.\")\n",
    "\n",
    "# Create the folder prefix if it doesn't implicitly exist\n",
    "if prefix:\n",
    "    blob_name = f\"{prefix}\" if prefix.endswith('/') else f\"{prefix}/\"\n",
    "    placeholder_blob = bucket.blob(blob_name + \".placeholder\")\n",
    "    if not placeholder_blob.exists():\n",
    "        placeholder_blob.upload_from_string('')\n",
    "        print(f\"Simulated folder '{corpa_document_bucket}' created.\")\n",
    "    else:\n",
    "        print(f\"Simulated folder '{corpa_document_bucket}' already exists.\")\n"
   ]
  },
  {
   "cell_type": "markdown",
   "id": "6fa0bc31-c79d-4a85-a037-f791d68d1ec5",
   "metadata": {},
   "source": [
    "Copy files from the local directory to the GCS bucket"
   ]
  },
  {
   "cell_type": "code",
   "execution_count": null,
   "id": "44200f71-201c-4f92-a473-66d31140af7a",
   "metadata": {
    "tags": []
   },
   "outputs": [],
   "source": [
    "if os.path.exists(local_documents) and os.path.isdir(local_documents):\n",
    "    for filename in os.listdir(local_documents):\n",
    "        local_file_path = os.path.join(local_documents, filename)\n",
    "        if os.path.isfile(local_file_path):\n",
    "            gcs_blob_name = f\"{prefix}{filename}\"\n",
    "            blob = bucket.blob(gcs_blob_name)\n",
    "            blob.upload_from_filename(local_file_path)\n",
    "            print(f\"Uploaded '{local_file_path}' to 'gs://{bucket_name}/{gcs_blob_name}'\")\n",
    "else:\n",
    "    print(f\"Local directory '{local_documents}' does not exist or is not a directory.\")"
   ]
  },
  {
   "cell_type": "markdown",
   "id": "625ef901-fcc4-4aa4-8b44-f5057d550bff",
   "metadata": {},
   "source": [
    " "
   ]
  },
  {
   "cell_type": "markdown",
   "id": "2313a609-86cf-4d3f-8379-3e9a48dba5b8",
   "metadata": {},
   "source": [
    "## Define Functions"
   ]
  },
  {
   "cell_type": "markdown",
   "id": "c00b3985-3a46-4b3e-bc87-ef5364694918",
   "metadata": {},
   "source": [
    "We define agent tools the same way we define functions in Python. "
   ]
  },
  {
   "cell_type": "markdown",
   "id": "4a262523-9d6b-4c37-be7b-dd04fb558f20",
   "metadata": {},
   "source": [
    "We'll start by defining Python functions we'll use as part of our application code base"
   ]
  },
  {
   "cell_type": "markdown",
   "id": "078a74d4-3b81-4f78-a31a-5e28a1f32b86",
   "metadata": {},
   "source": [
    "Define a function to delete a RAG Engine corpus"
   ]
  },
  {
   "cell_type": "code",
   "execution_count": null,
   "id": "34b9823f-ce2f-4497-8b4b-834850ba3f30",
   "metadata": {
    "tags": []
   },
   "outputs": [],
   "source": [
    "def delete_rag_corpora(data: aiplatform.services.vertex_rag_data_service.pagers.ListRagCorporaPager):\n",
    "    \"\"\"Extracts 'name' values from a ListRagCorporaPager and prints them.\n",
    "\n",
    "    Args:\n",
    "        data: The ListRagCorporaPager object returned from the API.\n",
    "    \"\"\"\n",
    "\n",
    "    names_list = []\n",
    "    # First loop: Add names to the list\n",
    "    for rag_corpus in data:  # Iterate through the rag_corpora objects\n",
    "        if hasattr(rag_corpus, 'name'):  #  Check if the attribute exists\n",
    "             names_list.append(rag_corpus.name)\n",
    "\n",
    "    # Second loop: Print the names\n",
    "    for corpa_name in names_list:\n",
    "        rag.get_corpus(name=corpa_name)\n",
    "        rag.delete_corpus(name=corpa_name)"
   ]
  },
  {
   "cell_type": "markdown",
   "id": "b3c64737-21a7-4ea2-86b7-a44a00722b69",
   "metadata": {},
   "source": [
    "Define a function to create a RAG Engine corpus"
   ]
  },
  {
   "cell_type": "code",
   "execution_count": null,
   "id": "21e278ab-b984-4ba9-a70d-8f74a5eb68c7",
   "metadata": {
    "tags": []
   },
   "outputs": [],
   "source": [
    "def create_rag_corpora(display_name, source_bucket):\n",
    "    EMBEDDING_MODEL = \"publishers/google/models/text-embedding-004\"  # @param {type:\"string\", isTemplate: true}\n",
    "    embedding_model_config = rag.EmbeddingModelConfig(publisher_model=EMBEDDING_MODEL)\n",
    "\n",
    "    rag_corpus = rag.create_corpus(\n",
    "        display_name=display_name, embedding_model_config=embedding_model_config\n",
    "    )\n",
    "    \n",
    "\n",
    "    \n",
    "    INPUT_GCS_BUCKET = (\n",
    "        source_bucket\n",
    "    )\n",
    "\n",
    "    response = rag.import_files(\n",
    "        corpus_name=rag_corpus.name,\n",
    "        paths=[INPUT_GCS_BUCKET],\n",
    "        chunk_size=1024,  # Optional\n",
    "        chunk_overlap=100,  # Optional\n",
    "        max_embedding_requests_per_min=900,  # Optional\n",
    "    )\n",
    "    \n",
    "    # This code shows how to upload local files to the corpus. \n",
    "    #rag_file = rag.upload_file(\n",
    "    #    corpus_name=rag_corpus.name,\n",
    "    #    path=\"./test.txt\",\n",
    "    #    display_name=\"test.txt\",\n",
    "    #    description=\"my test file\"\n",
    "    #)\n",
    "    \n",
    "    return rag_corpus"
   ]
  },
  {
   "cell_type": "markdown",
   "id": "4dff24f5-473f-4e01-b052-8d8da515820d",
   "metadata": {},
   "source": [
    "## Define Agent Tools that we'll use with our Agents"
   ]
  },
  {
   "cell_type": "markdown",
   "id": "fcc17fc4-d2d7-4884-b57b-fdee61ebb17b",
   "metadata": {},
   "source": [
    "Define an Agent Tool to create a ticket (currently not in use)"
   ]
  },
  {
   "cell_type": "code",
   "execution_count": null,
   "id": "09dc3ccb-0df5-436d-8a58-b3e566df5862",
   "metadata": {
    "tags": []
   },
   "outputs": [],
   "source": [
    "def create_ticket(ticket_data: Dict) -> Dict:\n",
    "    \"\"\"\n",
    "    Creates a ticket via the /ticket endpoint.\n",
    "\n",
    "    Args:\n",
    "        ticket_data: A dictionary containing the ticket data\n",
    "                     (ticket_id, description, customer_id, contact_name).\n",
    "\n",
    "    Returns:\n",
    "        A dictionary containing the API response.  Handles errors gracefully.\n",
    "    \"\"\"\n",
    "    url = f\"{ticket_server_url}/ticket\"\n",
    "    headers = {\"Content-Type\": \"application/json\"}\n",
    "\n",
    "    try:\n",
    "        response = requests.post(url, headers=headers, data=json.dumps(ticket_data))\n",
    "        response.raise_for_status()  # Raise HTTPError for bad responses (4xx or 5xx)\n",
    "        return response.json()\n",
    "    except requests.exceptions.RequestException as e:\n",
    "        return {\"error\": f\"Request failed: {e}\"}"
   ]
  },
  {
   "cell_type": "markdown",
   "id": "bff84ff7-e45a-4b7b-9415-6e631fb5b846",
   "metadata": {},
   "source": [
    "Define an Agent Tool to add notes to an existing ticket"
   ]
  },
  {
   "cell_type": "code",
   "execution_count": null,
   "id": "d6815974-8911-400a-a12d-0b07da7443e4",
   "metadata": {
    "tags": []
   },
   "outputs": [],
   "source": [
    "def add_note(ticket_id: int, contact_name: str, note: str) -> Dict:\n",
    "    \"\"\"\n",
    "    Adds a note via the /notes endpoint.\n",
    "\n",
    "    Args:\n",
    "        ticket_id: int - A number representing the ticket ID number\n",
    "        contact_name: str - The name of the contact person as a string value\n",
    "        note: str - A string value that outlines the plan of action to resolve the ticket\n",
    "\n",
    "    Returns:\n",
    "         A dictionary containing the API response.  Handles errors gracefully.\n",
    "    \"\"\"\n",
    "    url = f\"{ticket_server_url}/notes\"\n",
    "    headers = {\"Content-Type\": \"application/json\"}\n",
    "\n",
    "    # Construct the dictionary *inside* the function\n",
    "    note_data = {\n",
    "        \"ticket_id\": ticket_id,\n",
    "        \"contact_name\": contact_name,\n",
    "        \"note\": note\n",
    "    }\n",
    "\n",
    "    try:\n",
    "        response = requests.post(url, headers=headers, data=json.dumps(note_data))\n",
    "        response.raise_for_status()\n",
    "        return response.json()\n",
    "    except requests.exceptions.RequestException as e:\n",
    "        return {\"error\": f\"Request failed: {e}\"}"
   ]
  },
  {
   "cell_type": "markdown",
   "id": "de7455c3-b8e0-447f-9932-35a7ead0f949",
   "metadata": {},
   "source": [
    "Define an Agent Tool to add a file to the Agent Session. This is a shared memory space for your agents"
   ]
  },
  {
   "cell_type": "code",
   "execution_count": null,
   "id": "ff56b019-965d-4bda-9963-c858698c3650",
   "metadata": {
    "tags": []
   },
   "outputs": [],
   "source": [
    "def add_file_to_session(uri: str) -> types.Content:\n",
    "    \"\"\"\n",
    "    Adds a specific file from Google Cloud Storage (GCS) to the current session state for agent processing.\n",
    "\n",
    "    This function takes a GCS URI for a file and wraps it in a `types.Content` object.\n",
    "    This object is then typically used to make the file's content accessible to the\n",
    "    agent for tasks like summarization, question answering, or data extraction\n",
    "    related specifically to that file within the ongoing conversation or session.\n",
    "    The MIME type is assumed to be inferred by the underlying system or defaults.\n",
    "\n",
    "    Use this function *after* you have identified a specific GCS URI (e.g., using\n",
    "    `get_gcs_uri` or similar) that you need the agent to analyze or reference directly.\n",
    "\n",
    "    Args:\n",
    "        uri: str - The complete Google Cloud Storage URI of the file to add.\n",
    "                 Must be in the format \"gs://bucket_name/path/to/file.pdf\".\n",
    "                 Example: \"gs://my-doc-bucket/reports/q1_report.pdf\"\n",
    "\n",
    "    Returns:\n",
    "         types.Content - A structured Content object representing the referenced file.\n",
    "                       This object has `role='user'` and contains a `types.Part`\n",
    "                       that holds the reference to the provided GCS URI.\n",
    "                       This Content object can be passed to the agent in subsequent calls.\n",
    "    \"\"\"\n",
    "    print(uri)\n",
    "    content = types.Content(\n",
    "        role='user',\n",
    "        parts=[\n",
    "            # Try passing ONLY the uri positionally, based on the error message \"takes 1 positional argument\"\n",
    "            types.Part.from_uri(\n",
    "                file_uri=uri,\n",
    "                mime_type=\"application/pdf\",\n",
    "            )\n",
    "        ]\n",
    "    )\n",
    "\n",
    "    return content"
   ]
  },
  {
   "cell_type": "markdown",
   "id": "222a2db5-1622-4095-a4d5-e7322bfd6e40",
   "metadata": {},
   "source": [
    "Define an Agent Tool to retrieve the GCS Bucket location of the document(s) associated with the user's query (in this case the ticket description)"
   ]
  },
  {
   "cell_type": "code",
   "execution_count": null,
   "id": "acfe1b49-848c-49f9-b690-0d0ade27f05e",
   "metadata": {},
   "outputs": [],
   "source": [
    "def get_gcs_uri(query: str) -> str:\n",
    "    \"\"\"\n",
    "    Retrieves Google Cloud Storage (GCS) URIs for documents relevant to a given query.\n",
    "\n",
    "    This function queries a pre-configured Retrieval-Augmented Generation (RAG)\n",
    "    corpus to find documents related to the input query string. It extracts\n",
    "    the source GCS URIs from the top relevant documents identified by the\n",
    "    RAG system based on semantic similarity. Use this function when you need\n",
    "    to find the source files in GCS that contain information related to a\n",
    "    specific question or topic.\n",
    "\n",
    "    Args:\n",
    "        query: str - The natural language query or topic to search for within\n",
    "                 the RAG corpus. For example: \"What were the Q3 sales figures?\"\n",
    "                 or \"Tell me about project Alpha's latest status\".\n",
    "\n",
    "    Returns:\n",
    "         str - A JSON string representing a list of unique GCS URIs. These URIs\n",
    "               point to the source documents found to be relevant to the query.\n",
    "               Returns a JSON string representing an empty list ('[]') if no\n",
    "               relevant documents meet the similarity criteria.\n",
    "               Example return value: '[\"gs://my-bucket/doc1.pdf\", \"gs://my-bucket/report_q3.txt\"]'\n",
    "    \"\"\"\n",
    "    query_response = rag.retrieval_query(\n",
    "        rag_resources=[\n",
    "            rag.RagResource(\n",
    "                rag_corpus=rag_corpus.name,\n",
    "                # Optional: supply IDs from `rag.list_files()`.\n",
    "                # rag_file_ids=[\"rag-file-1\", \"rag-file-2\", ...],\n",
    "            )\n",
    "        ],\n",
    "        text=f'''\n",
    "        {query}\n",
    "        ''',\n",
    "        similarity_top_k=10,  # Optional\n",
    "        vector_distance_threshold=0.5,  # Optional\n",
    "    )\n",
    "    #print(response)\n",
    "    uri_set = set()\n",
    "    for context in query_response.contexts.contexts:\n",
    "        uri_set.add(context.source_uri)\n",
    "        #json.dumps(list(uri_set))\n",
    "    #doc_uri = uri_set.pop()\n",
    "    doc_uri = json.dumps(list(uri_set))\n",
    "    return doc_uri"
   ]
  },
  {
   "cell_type": "markdown",
   "id": "8b6c2bf4-dda9-4ade-9e1f-4e387a788ffe",
   "metadata": {},
   "source": [
    " "
   ]
  },
  {
   "cell_type": "markdown",
   "id": "d856de32-a54c-4d30-b9a0-407c2be0b0e9",
   "metadata": {},
   "source": [
    "## Create a RAG Corpus"
   ]
  },
  {
   "cell_type": "markdown",
   "id": "60fb5e65-f566-4547-ad72-6c7042833e9c",
   "metadata": {},
   "source": [
    "Start by listing all avaiable RAG Engine corpora"
   ]
  },
  {
   "cell_type": "code",
   "execution_count": null,
   "id": "196b9366-7537-46ea-ab20-5e19aa01ecc8",
   "metadata": {
    "tags": []
   },
   "outputs": [],
   "source": [
    "existing_corpora = rag.list_corpora()"
   ]
  },
  {
   "cell_type": "code",
   "execution_count": null,
   "id": "43361578-4147-4be2-b6ed-1fe73900b41b",
   "metadata": {
    "tags": []
   },
   "outputs": [],
   "source": [
    "print(existing_corpora)"
   ]
  },
  {
   "cell_type": "markdown",
   "id": "1096b202-cf7c-4cc0-bcad-501ff86d7972",
   "metadata": {},
   "source": [
    "We will first see if there is an existing Corpus we should use. If not, we will create one."
   ]
  },
  {
   "cell_type": "code",
   "execution_count": null,
   "id": "b2bac88d-1355-4dee-b555-fe7f3e42fb44",
   "metadata": {
    "tags": []
   },
   "outputs": [],
   "source": [
    "# Variable to hold the corpus if found\n",
    "found_corpus = None\n",
    "\n",
    "# Iterate through all existing RAG corpora\n",
    "for corpus in existing_corpora.rag_corpora: # Ensure you iterate the correct attribute\n",
    "    # Check if display_name exists and matches\n",
    "    if getattr(corpus, 'display_name', None) == corpa_name:\n",
    "        print(f\"Existing Corpa found. Using {corpus.name}\")\n",
    "        \n",
    "        # You already have the corpus object, no need to call get_corpus usually\n",
    "        # If 'corpus' object from the list is sufficient, use it directly.\n",
    "        # If you MUST get a fresh object or different type, uncomment the next line:\n",
    "        # rag_corpus = rag.get_corpus(name=corpus.name) \n",
    "        found_corpus = corpus # Store the found corpus object\n",
    "        \n",
    "        print(f\"This corpus contains the following files:\")\n",
    "        try:\n",
    "            # List files associated with the found corpus\n",
    "            for file in rag.list_files(corpus.name): # Use corpus.name\n",
    "                print(getattr(file, 'display_name', 'N/A')) # Safer access\n",
    "        except Exception as e:\n",
    "            print(f\"Warning: Could not list files for {corpus.name}. Error: {e}\")\n",
    "            \n",
    "        break # Exit the loop as soon as we find the match\n",
    "\n",
    "# After the loop, check if we found anything\n",
    "if found_corpus is None:\n",
    "    # The loop completed without finding the corpus\n",
    "    print(f\"No existing {corpa_name} resource found. Creating one now.\")\n",
    "    try:\n",
    "        rag_corpus = create_rag_corpora(corpa_name, corpa_document_bucket)\n",
    "        print(f\"New RAG corpus created at {rag_corpus.name}\")\n",
    "    except Exception as e:\n",
    "        print(f\"Error creating corpus {corpa_name}: {e}\")\n",
    "        rag_corpus = None # Indicate failure\n",
    "else:\n",
    "    # The corpus was found in the loop\n",
    "    rag_corpus = found_corpus # Assign the found corpus to the main variable\n",
    "\n",
    "# Now 'rag_corpus' holds either the found or newly created corpus (or None if creation failed)\n",
    "# You can proceed to use 'rag_corpus' here\n",
    "if rag_corpus:\n",
    "    print(f\"\\nProceeding with corpus: {rag_corpus.name}\")\n",
    "    # ... your next steps using rag_corpus ...\n",
    "else:\n",
    "    print(f\"\\nFailed to find or create corpus '{corpa_name}'. Cannot proceed.\")"
   ]
  },
  {
   "cell_type": "markdown",
   "id": "ec090cbf-029d-475b-b0e5-b6ed2de8a09f",
   "metadata": {},
   "source": [
    " "
   ]
  },
  {
   "cell_type": "markdown",
   "id": "d6dd7bd9-c5ec-4578-b41d-43a3bfb711d5",
   "metadata": {},
   "source": [
    "**WARNING**: Uncomment this next line to delete ALL existing RAG Engine corpora within this project."
   ]
  },
  {
   "cell_type": "markdown",
   "id": "e45ac68f-6905-48f3-80f3-da15ea03655c",
   "metadata": {
    "tags": []
   },
   "source": [
    "ONLY USE THIS OPTION IN A NON PRODUCTION ENVIRONMENT!"
   ]
  },
  {
   "cell_type": "code",
   "execution_count": null,
   "id": "ec5fadf2-90c7-4312-9a11-6d253a069212",
   "metadata": {
    "tags": []
   },
   "outputs": [],
   "source": [
    "#delete_rag_corpora(rag.list_corpora())"
   ]
  },
  {
   "cell_type": "markdown",
   "id": "7195e399-3933-4cbb-912e-4b92a4f37d64",
   "metadata": {},
   "source": [
    "## Test the RAG connection"
   ]
  },
  {
   "cell_type": "markdown",
   "id": "1995b58b-79a0-46a0-9d1a-2d10ec3382ad",
   "metadata": {},
   "source": [
    "Let's test the RAG Engine by using the get_gcs_uri function. This will query RAG Engine and return the URI for the grounding documents associated with our query. "
   ]
  },
  {
   "cell_type": "code",
   "execution_count": null,
   "id": "03511c09-01ad-46de-8424-722ab2533809",
   "metadata": {
    "tags": []
   },
   "outputs": [],
   "source": [
    "test = get_gcs_uri('How do I install a Nest E thermostat')\n",
    "print(test)"
   ]
  },
  {
   "cell_type": "markdown",
   "id": "99fdd62e-ff78-43a2-a468-196f33a237f2",
   "metadata": {},
   "source": [
    "As you can see with this response, we just exposed a common challenge with standard RAG systems: their reliance on vector search can lead to retrieving contextually similar yet inaccurate documents. In this instance, the RAG engine provided three installation guides when only one directly relates the user's query about the Nest E thermostat. We will see how we can address this issue when we define our reasoning agent."
   ]
  },
  {
   "cell_type": "markdown",
   "id": "b13cc385-1907-4d30-ab91-4914ca58c658",
   "metadata": {},
   "source": [
    "## Define the Agents"
   ]
  },
  {
   "cell_type": "markdown",
   "id": "3ef565e4-8482-42c2-a2ec-56adc9d5c328",
   "metadata": {},
   "source": [
    "Let's define some agents"
   ]
  },
  {
   "cell_type": "markdown",
   "id": "8c429913-5f82-41af-a0b6-1da237b04d15",
   "metadata": {},
   "source": [
    "First, we'll create a RAG agent. This agent will pull information from a RAG and return the GCS URI of applicable files."
   ]
  },
  {
   "cell_type": "code",
   "execution_count": null,
   "id": "1a1ff40d-66de-4534-bd90-4067635ec74a",
   "metadata": {
    "tags": []
   },
   "outputs": [],
   "source": [
    "rag_agent = Agent(\n",
    "    name=\"rag_agent\",\n",
    "    model=\"gemini-2.0-flash-001\",\n",
    "    description=\"Retrieves information from a RAG Engine instance and returns the GCS URI of relevant files.\",\n",
    "    instruction=\"\"\"\n",
    "      You are a customer support agent. You help locate documentation that will resolve customer issues.\n",
    "      Identify the most relevant support document that pertains to the question.\n",
    "      Your job is to only provide the GCS URI for the closest matching document, not to resolve the issue.\n",
    "      You will use the get_gcs_uri to identify the correct file. \n",
    "      The response from get_gcs_uri will be a text string like 'gs://bucket_name/folder/file 1.pdf'\n",
    "      Determine which files are relevant to the customer's question and return them to the root agent.\n",
    "    \"\"\",\n",
    "    tools=[\n",
    "        get_gcs_uri\n",
    "    ],\n",
    "    #flow='single',\n",
    ")"
   ]
  },
  {
   "cell_type": "markdown",
   "id": "d37e976b-db7f-4373-bab1-d60a0085e046",
   "metadata": {},
   "source": [
    "Next we'll create a Reasoning Agent. This agent will generate the troubleshooting steps to help resolve the customer issue."
   ]
  },
  {
   "cell_type": "markdown",
   "id": "18c110c2-cc41-412f-bd20-7e744d6928b0",
   "metadata": {},
   "source": [
    "We will design the reasoning agent to explicitly name the source document it will use. Our approach will help mitigate the common issue with RAG retrieving contextually similar, but incorrect documents by adding the retrieved files to the shared session state, enabling the LLM itself to analyze and select the most pertinent source document."
   ]
  },
  {
   "cell_type": "code",
   "execution_count": null,
   "id": "6e45ae92-e0be-4455-a020-578889557bf1",
   "metadata": {
    "tags": []
   },
   "outputs": [],
   "source": [
    "reasoning_agent = Agent(\n",
    "    name=\"reasoning_agent\",\n",
    "    model=\"gemini-2.5-pro-exp-03-25\",\n",
    "    description=\"Defines the troubleshooting process to help resolve the customer's problem\",\n",
    "    instruction=\"\"\"\n",
    "      You are a customer support agent. You help define the troubleshooting process to resolve customer issues.\n",
    "      Use the information in the document to define the process for resolving the issue.\n",
    "      Once the files have been added to your context, use that information to outline the process needed to resolve the identified problem.\n",
    "      If multiple documents are provided, specify which document or documents contains the relevant information to resolve the issue.\n",
    "      The process needs to outline the activities for the Nest technical support representitive to perform.\n",
    "      The notes system only supports plain text. Ensure you only use text in your output.\n",
    "      \n",
    "      Example:\n",
    "      Step 1: Do this\n",
    "      Step 2: Do this other task\n",
    "      Step 3: etc\n",
    "    \"\"\",\n",
    "    tools=[\n",
    "        #add_file_to_session,\n",
    "    ],\n",
    "    #flow='single',\n",
    ")"
   ]
  },
  {
   "cell_type": "markdown",
   "id": "4d0c3750-c1d1-4f27-8917-0e0214d00549",
   "metadata": {},
   "source": [
    "Let's create a notes agent to add notes to a ticket. We will use the \"add_note\" tool to interact with our custom API on the ticket server."
   ]
  },
  {
   "cell_type": "code",
   "execution_count": null,
   "id": "2f293c7d-8db3-43f8-b8be-f524ca7b37ea",
   "metadata": {
    "tags": []
   },
   "outputs": [],
   "source": [
    "notes_agent = Agent(\n",
    "    name=\"notes_agent\",\n",
    "    model=\"gemini-2.0-flash-001\",\n",
    "    description=\"Add notes to the associated ticket\",\n",
    "    instruction=\"\"\"\n",
    "      You are a customer support assistant agent. Your primary task is to generate informative and well-structured notes for customer support tickets. \n",
    "      These notes will be added to the ticket's history and used by customer support representatives to understand the issue, track progress, and provide consistent service.\n",
    "    \"\"\",\n",
    "    tools=[\n",
    "        add_note,\n",
    "    ],\n",
    "    #flow='single',\n",
    ")"
   ]
  },
  {
   "cell_type": "markdown",
   "id": "e49a66a6-8d53-4988-a6b8-81b82798d469",
   "metadata": {},
   "source": [
    "Lastly, we'll define the root agent"
   ]
  },
  {
   "cell_type": "code",
   "execution_count": null,
   "id": "2e18c7a8-c4e8-4002-bf95-36def8fb580f",
   "metadata": {
    "tags": []
   },
   "outputs": [],
   "source": [
    "nest_agent_team = Agent(\n",
    "    name=\"nest_support_agent\",\n",
    "    model=\"gemini-2.0-flash-001\",\n",
    "    description=\"The main coordinator agent. Handles user requests and delegates tasks to specialists.\",\n",
    "    instruction=\"\"\"\n",
    "      You are a Nest customer support agent. You help triage and document actions for customer support tickets. \n",
    "      These notes will be added to the ticket's history and used by customer support representatives to understand the issue, track progress, and provide consistent service\n",
    "      Start by identifying what the problem is, then call the rag_agent to identify the related documents.\n",
    "      The add_file_to_session tool only supports 1 document at a time. \n",
    "      Use the add_file_to_session tool to add the document to your context. \n",
    "      If the rag_agent provides multiple documents, you will need to make multiple calls using the add_file_to_session tool\n",
    "      Once the rag_agent has provided you the gcs links to the documents, call the reasoning_agent to define the troubleshooting process.\n",
    "      The reasoning_agent will return the process to troubleshoot the issue. \n",
    "      Call the notes_agent to add the troubleshooting process to the ticket notes. The notes_agent is expecting the following json request body:\n",
    "            {\n",
    "                \"ticket_id\":  The ticket ID represented as an integer,\n",
    "                \"contact_name\": \"string value of the contact name\",\n",
    "                \"note\": \"string value of the troubleshooting process\"\n",
    "            }\n",
    "    \"\"\",\n",
    "    tools=[add_file_to_session],\n",
    "    #flow='auto',\n",
    "    sub_agents=[rag_agent, reasoning_agent, notes_agent]\n",
    ")"
   ]
  },
  {
   "cell_type": "code",
   "execution_count": null,
   "id": "ea8d910b-a49c-40df-a2e4-f58dba59d96a",
   "metadata": {},
   "outputs": [],
   "source": []
  },
  {
   "cell_type": "markdown",
   "id": "2da68d33-960c-4634-bb8d-c044aa1ccd9b",
   "metadata": {},
   "source": [
    "## Let's see how it works"
   ]
  },
  {
   "cell_type": "code",
   "execution_count": null,
   "id": "75631ca6-d2d4-4a82-b9a1-2096372c2e21",
   "metadata": {},
   "outputs": [],
   "source": [
    "def format_output(parts_list: list[types.Part]) -> str:\n",
    "    \"\"\"\n",
    "    Formats a list of Part objects (typically returned by run_prompt)\n",
    "    into a human-readable string summarizing the interaction.\n",
    "    Includes specific details for known function calls like transfer_to_agent.\n",
    "    \"\"\"\n",
    "    if not isinstance(parts_list, list):\n",
    "        return \"[Error: Input to format_output should be a list of Part objects]\"\n",
    "\n",
    "    formatted_lines = []\n",
    "    formatted_lines.append(\"--- Agent Interaction (Formatted) ---\")\n",
    "\n",
    "    if not parts_list:\n",
    "        formatted_lines.append(\"(No content parts received)\")\n",
    "    else:\n",
    "        for part in parts_list:\n",
    "            if part.text:\n",
    "                # Append agent's text\n",
    "                formatted_lines.append(part.text)\n",
    "            elif part.function_call:\n",
    "                # === Updated Function Call Handling ===\n",
    "                fc = part.function_call\n",
    "                # Special handling for transfer_to_agent\n",
    "                if fc.name == 'transfer_to_agent':\n",
    "                    # Safely get the agent_name from args, provide default if missing\n",
    "                    agent_name = fc.args.get('agent_name', 'UNKNOWN_AGENT')\n",
    "                    formatted_lines.append(f\"  [Function Call: Transfer to Agent -> {agent_name}]\")\n",
    "                # Special handling for add_file_to_session\n",
    "                elif fc.name == 'add_file_to_session':\n",
    "                    # Safely get the uri from args\n",
    "                    file_uri = fc.args.get('uri', 'UNKNOWN_URI')\n",
    "                    # Extract just the filename for brevity if desired\n",
    "                    filename = file_uri.split('/')[-1] if '/' in file_uri else file_uri\n",
    "                    formatted_lines.append(f\"  [Function Call: Add File to Session ({filename})]\")\n",
    "                    # Or show full URI:\n",
    "                    # formatted_lines.append(f\"  [Function Call: {fc.name} (URI: {file_uri})]\")\n",
    "                else:\n",
    "                    # Default formatting for any other function calls\n",
    "                    formatted_lines.append(f\"  [Function Call: {fc.name}]\")\n",
    "                    # Optionally show generic args for unknown functions:\n",
    "                    # if fc.args:\n",
    "                    #    formatted_lines.append(f\"    Args: {fc.args}\")\n",
    "                # === End of Updated Function Call Handling ===\n",
    "            elif part.function_response:\n",
    "                # Indicate a function response\n",
    "                fr = part.function_response\n",
    "                # Add specific details based on function name if needed\n",
    "                if fr.name == 'add_file_to_session':\n",
    "                     # Try to extract file info if available in the response structure\n",
    "                     file_info = \"(Response received)\" # Default text\n",
    "                     try:\n",
    "                         if isinstance(fr.response, dict) and 'result' in fr.response:\n",
    "                             result_content = fr.response['result']\n",
    "                             if isinstance(result_content, types.Content) and result_content.parts:\n",
    "                                 for res_part in result_content.parts:\n",
    "                                     if res_part.file_data:\n",
    "                                         filename = res_part.file_data.file_uri.split('/')[-1]\n",
    "                                         file_info = f\"(File Processed: {filename})\"\n",
    "                                         break\n",
    "                     except Exception:\n",
    "                         pass # Keep default text on error\n",
    "                     formatted_lines.append(f\"  [Function Response for: {fr.name} {file_info}]\")\n",
    "                else:\n",
    "                     # Generic response message\n",
    "                     formatted_lines.append(f\"  [Function Response for: {fr.name}]\")\n",
    "\n",
    "            elif part.file_data:\n",
    "                 # Handle directly referenced file data\n",
    "                 filename = part.file_data.file_uri.split('/')[-1]\n",
    "                 formatted_lines.append(f\"  [File Reference: {filename}]\")\n",
    "            # Add checks for other Part types if needed (code, thought)\n",
    "            # elif part.executable_code: ...\n",
    "            # elif part.code_execution_result: ...\n",
    "            # elif part.thought: ...\n",
    "            else:\n",
    "                 # Ignore parts with no directly readable content\n",
    "                 pass\n",
    "\n",
    "    formatted_lines.append(\"--- End of Formatted Interaction ---\")\n",
    "    return \"\\n\".join(formatted_lines)"
   ]
  },
  {
   "cell_type": "code",
   "execution_count": null,
   "id": "3bb91b66-484f-4e49-a643-d88871b02ca0",
   "metadata": {
    "tags": []
   },
   "outputs": [],
   "source": [
    "# Define constants for identifying the interaction context\n",
    "APP_NAME = \"nest_support_agent\" # The name of our agentic workflow\n",
    "USER_ID = \"user_1\" # The assoicated user we are interacting with\n",
    "SESSION_ID = \"session_001\" # Using a fixed ID for simplicity\n",
    "\n",
    "session_service = InMemorySessionService() # Memory service stores message history, kind of like a context window\n",
    "artifact_service = InMemoryArtifactService() # Artifact service stores binary data, such as PDF files\n",
    "session = session_service.create_session(\n",
    "    app_name=APP_NAME,\n",
    "    user_id=USER_ID,\n",
    "    session_id=SESSION_ID\n",
    ")\n",
    "runner = Runner(\n",
    "    agent='nest_support_agent', # The agent we want to run\n",
    "    app_name=APP_NAME,   # Associates runs with our app\n",
    "    artifact_service=artifact_service, # Uses our Artifact service\n",
    "    session_service=session_service # Uses our session manager\n",
    ")\n",
    "\n",
    "def run_prompt(new_message: str) -> list[types.Part]:\n",
    "  \"\"\"\n",
    "  Runs a prompt using the ADK runner and returns a list of all\n",
    "  Part objects received in the response events.\n",
    "  (Does not print the raw parts itself anymore).\n",
    "  \"\"\"\n",
    "  content = types.Content(role='user', parts=[types.Part(text=new_message)])\n",
    "  all_parts = [] # Initialize an empty list to collect parts of the message\n",
    "\n",
    "\n",
    "  try:\n",
    "    for event in runner.run(\n",
    "        session_id=session,\n",
    "        user_id=USER_ID,\n",
    "        new_message=content,\n",
    "    ):\n",
    "      if event.content and event.content.parts:\n",
    "          # Extend the all_parts list with the parts from this event\n",
    "          all_parts.extend(event.content.parts)\n",
    "\n",
    "  except Exception as e:\n",
    "      # Handle potential errors during the run\n",
    "      print(f\"\\n--- Error during ADK execution ---\")\n",
    "      print(e)\n",
    "      pass\n",
    "  finally:\n",
    "      # Optional: indicate completion\n",
    "      print(\"--- ADK run finished ---\")\n",
    "      pass\n",
    "\n",
    "  return all_parts # Return the complete list of Part objects\n"
   ]
  },
  {
   "cell_type": "code",
   "execution_count": null,
   "id": "7ca5e545-0cf5-4e33-a24c-91797d42ee23",
   "metadata": {
    "tags": []
   },
   "outputs": [],
   "source": [
    "raw_parts_list = run_prompt(f'''\n",
    "Hi, I need help installing my Nest 3rd gen thermostat. I don't know which wires to connect for power.\n",
    "''')\n",
    "#readable_string = format_output(raw_parts_list)\n",
    "print(raw_parts_list)"
   ]
  },
  {
   "cell_type": "code",
   "execution_count": null,
   "id": "d0cd3858-4a74-4437-9932-ec03e23f9aa8",
   "metadata": {
    "tags": []
   },
   "outputs": [],
   "source": [
    "raw_parts_list = run_prompt(f'''\n",
    "Define the troubleshooting process for this issue.\n",
    "''')\n",
    "readable_string = format_output(raw_parts_list)\n",
    "print(readable_string)"
   ]
  },
  {
   "cell_type": "code",
   "execution_count": null,
   "id": "d71ce259-1104-473f-8318-faf2f1da61c3",
   "metadata": {
    "tags": []
   },
   "outputs": [],
   "source": [
    "raw_parts_list = run_prompt(f'''\n",
    "Add the troubleshooting process to the notes of the ticket. The ticket number is 1759 and the contact name is 'JonD@here.com'\n",
    "''')\n",
    "readable_string = format_output(raw_parts_list)\n",
    "print(readable_string)"
   ]
  },
  {
   "cell_type": "markdown",
   "id": "09cc73bf-190e-4121-b919-f4a4f365f7a2",
   "metadata": {},
   "source": [
    " "
   ]
  },
  {
   "cell_type": "markdown",
   "id": "e6614a84-9cdf-4d05-971d-eb5a05b26f2d",
   "metadata": {},
   "source": [
    "You can now check the \"notes.txt\" file on the GCE VM running ticket_server.py. You should see the full notes from this ticket. To make it easier to read, you can run 'pandoc notes.txt | lynx -stdin' from the Ticket server console to render the default markdown from the model. "
   ]
  }
 ],
 "metadata": {
  "environment": {
   "kernel": "conda-env-agent-framework-agent-framework",
   "name": "workbench-notebooks.m124",
   "type": "gcloud",
   "uri": "us-docker.pkg.dev/deeplearning-platform-release/gcr.io/workbench-notebooks:m124"
  },
  "kernelspec": {
   "display_name": "agent-framework",
   "language": "python",
   "name": "conda-env-agent-framework-agent-framework"
  },
  "language_info": {
   "codemirror_mode": {
    "name": "ipython",
    "version": 3
   },
   "file_extension": ".py",
   "mimetype": "text/x-python",
   "name": "python",
   "nbconvert_exporter": "python",
   "pygments_lexer": "ipython3",
   "version": "3.13.2"
  }
 },
 "nbformat": 4,
 "nbformat_minor": 5
}
